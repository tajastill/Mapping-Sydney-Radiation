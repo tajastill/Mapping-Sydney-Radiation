{
 "cells": [
  {
   "cell_type": "code",
   "execution_count": null,
   "id": "736382a7-856c-4b09-9e86-a03bd46e1dcf",
   "metadata": {},
   "outputs": [],
   "source": [
    "import pandas as pd\n",
    "import json\n",
    "import matplotlib.pyplot as plt\n",
    "import numpy as np"
   ]
  },
  {
   "cell_type": "code",
   "execution_count": null,
   "id": "028a4b0a-5a28-4994-bfe9-d0c501130891",
   "metadata": {},
   "outputs": [],
   "source": [
    "# import the data (JSON) file and stitch together in 1 dataframe\n",
    "# this function also sorts the datapoints by time\n",
    "\n",
    "def openfile(filename):\n",
    "    with open(filename) as f:\n",
    "        data = json.load(f)\n",
    "    markers = data['markers']\n",
    "    df = pd.DataFrame(markers)\n",
    "    df = df.sort_values(by=['date'], ascending=True)\n",
    "    return df"
   ]
  },
  {
   "cell_type": "code",
   "execution_count": null,
   "id": "3c652ce8-5c70-4b3d-a52f-fdf478b6014c",
   "metadata": {},
   "outputs": [],
   "source": [
    "# open all the files you want to stitch together and create a big df\n",
    "\n",
    "df0 = openfile(\"Track 13.08.2024 11-12-18.json\")\n",
    "df1 = openfile(\"Track 17.08.2024 14-14-04.json\")\n",
    "df2 = openfile(\"Track 30.08.2024 17-14-16.json\")\n",
    "df3 = openfile(\"Track 31.08.2024 14-30-31.json\")\n",
    "df4 = openfile(\"Track 01.09.2024 17-42-53.json\")\n",
    "df5 = openfile(\"Track 02.09.2024 9-15-41.json\")\n",
    "df6 = openfile(\"Track 02.09.2024 14-32-35.json\")\n",
    "df = pd.concat([df0, df1, df2, df3, df4, df5, df6], axis=0)"
   ]
  },
  {
   "cell_type": "code",
   "execution_count": null,
   "id": "d4a3e0f6-3e84-4f59-baf1-65c5dbcc0fed",
   "metadata": {},
   "outputs": [],
   "source": [
    "# convert latitude and longitude to mercator projection\n",
    "\n",
    "def deg_to_mercator(lat, lon):\n",
    "    scale = 6378137\n",
    "    lon_rad = np.radians(lon)\n",
    "    lat_rad = np.radians(lat)\n",
    "    x = lon_rad*scale\n",
    "    y = scale*np.log(np.tan(np.pi / 4 + lat_rad / 2))\n",
    "    return x, y\n",
    "\n",
    "df[['x', 'y']] = df.apply(lambda row: pd.Series(deg_to_mercator(row['lat'], row['lon'])), axis=1)\n",
    "\n",
    "# our finished df with x and y as the coordinate system\n",
    "print(df)"
   ]
  }
 ],
 "metadata": {
  "kernelspec": {
   "display_name": "Python 3 (ipykernel)",
   "language": "python",
   "name": "python3"
  },
  "language_info": {
   "codemirror_mode": {
    "name": "ipython",
    "version": 3
   },
   "file_extension": ".py",
   "mimetype": "text/x-python",
   "name": "python",
   "nbconvert_exporter": "python",
   "pygments_lexer": "ipython3",
   "version": "3.12.4"
  }
 },
 "nbformat": 4,
 "nbformat_minor": 5
}
